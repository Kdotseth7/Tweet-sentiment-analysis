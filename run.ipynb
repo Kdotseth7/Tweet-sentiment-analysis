{
 "cells": [
  {
   "cell_type": "code",
   "execution_count": 1,
   "metadata": {},
   "outputs": [],
   "source": [
    "from sklearn.naive_bayes import MultinomialNB\n",
    "import csv\n",
    "import re\n",
    "import nltk\n",
    "import time\n",
    "import pandas as pd"
   ]
  },
  {
   "cell_type": "code",
   "execution_count": 2,
   "metadata": {},
   "outputs": [],
   "source": [
    "with open('./pos_train.txt', 'r') as f:\n",
    "    pos_data = f.read().splitlines()\n",
    "with open('./neg_train.txt', 'r') as f:\n",
    "    neg_data = f.read().splitlines()"
   ]
  },
  {
   "cell_type": "code",
   "execution_count": 3,
   "metadata": {
    "collapsed": true
   },
   "outputs": [],
   "source": [
    "def checkNumber(word):\n",
    "    originalWord = word\n",
    "    specialChars = ['.', ',', '/', '%', '-']\n",
    "    for char in specialChars:\n",
    "        word = word.replace(char, '')\n",
    "    if word.isdigit():\n",
    "        return '<number>'\n",
    "    else:\n",
    "        return originalWord\n",
    "    \n",
    "def removeNumbers(words):\n",
    "    return list(map(checkNumber, words))"
   ]
  },
  {
   "cell_type": "code",
   "execution_count": 4,
   "metadata": {},
   "outputs": [],
   "source": [
    "from hashtag_separator import infer_spaces\n",
    "\n",
    "def checkHashtag(word):\n",
    "    if (len(word)==0):\n",
    "        return False\n",
    "    return word[0]=='#'\n",
    "\n",
    "def replaceHashtags(words):\n",
    "    newWords = []\n",
    "    for word in words:\n",
    "        if not (checkHashtag(word)):\n",
    "            newWords.append(word)\n",
    "            continue\n",
    "        \n",
    "        newWords.append('<hashtag>')\n",
    "        #print(infer_spaces(word[1:]))\n",
    "        for hashWord in infer_spaces(word[1:]).split(' '):\n",
    "            newWords.append(hashWord)\n",
    "    \n",
    "    return newWords\n",
    "        \n",
    "        "
   ]
  },
  {
   "cell_type": "code",
   "execution_count": 5,
   "metadata": {},
   "outputs": [],
   "source": [
    "from autocorrect import spell\n",
    "#https://stackoverflow.com/questions/10072744/remove-repeating-characters-from-words\n",
    "def emphasize(word):\n",
    "    if (word[:2]=='..'):\n",
    "        return '...'\n",
    "    \n",
    "    newWord = re.sub(r'(.)\\1{2,}', r'\\1', word)\n",
    "    if (len(newWord)!=len(word)):\n",
    "        return '<<'+spell(newWord)+'>>'\n",
    "    else:\n",
    "        return word\n",
    "\n",
    "def emphasizeWords(words):\n",
    "    return list(map(emphasize, words))"
   ]
  },
  {
   "cell_type": "code",
   "execution_count": 6,
   "metadata": {
    "collapsed": true
   },
   "outputs": [],
   "source": [
    "def emphasizePunctiation(words):\n",
    "    specialChars = ['!', '?']\n",
    "    i = 1\n",
    "    while (i<len(words)):\n",
    "        word1 = words[i-1]\n",
    "        word2 = words[i]\n",
    "        if (word1 in specialChars and word2 in specialChars):\n",
    "            start = i-1\n",
    "            while (i+1<len(words) and words[i+1] in specialChars):\n",
    "                i += 1\n",
    "            words = words[:start] + ['<emphasis>'] + words[i+1:]\n",
    "            i = start\n",
    "        \n",
    "        i += 1\n",
    "    \n",
    "    return words"
   ]
  },
  {
   "cell_type": "code",
   "execution_count": 7,
   "metadata": {},
   "outputs": [],
   "source": [
    "from nltk.corpus import stopwords\n",
    "stopWords = stopwords.words('english')\n",
    "\n",
    "def removeStopwords(words):\n",
    "    return list(filter(lambda x: x not in stopWords, words))"
   ]
  },
  {
   "cell_type": "code",
   "execution_count": 8,
   "metadata": {
    "collapsed": true
   },
   "outputs": [],
   "source": [
    "lancasterStemmer = nltk.stem.lancaster.LancasterStemmer()\n",
    "wordNetLemmatizer = nltk.stem.WordNetLemmatizer()\n",
    "\n",
    "def lemmatize(word):\n",
    "    try:\n",
    "        temp = wordNetLemmatizer.lemmatize(word).lower()\n",
    "        return temp\n",
    "    except:\n",
    "        return word\n",
    "\n",
    "def normalizeWords(words):\n",
    "    return list(map(lemmatize, words))"
   ]
  },
  {
   "cell_type": "code",
   "execution_count": 9,
   "metadata": {},
   "outputs": [],
   "source": [
    "#https://github.com/jeffreybreen/twitter-sentiment-analysis-tutorial-201107\n",
    "with open('./positive-words.txt', 'r') as f:\n",
    "    positiveWords = f.read().splitlines()\n",
    "with open('./negative-words.txt', 'r') as f:\n",
    "    negativeWords = f.read().splitlines()"
   ]
  },
  {
   "cell_type": "code",
   "execution_count": 10,
   "metadata": {},
   "outputs": [],
   "source": [
    "def checkPositiveNegative(words):\n",
    "    newWords = []\n",
    "    for word in words:\n",
    "        if (word[:2]=='<<'):\n",
    "            checkWord = word[2:-2]\n",
    "        else:\n",
    "            checkWord = word\n",
    "        \n",
    "        if checkWord in positiveWords:\n",
    "            newWords += ['positively', word]\n",
    "        elif checkWord in negativeWords:\n",
    "            newWords += ['negatively', word]\n",
    "        else:\n",
    "            newWords.append(word)\n",
    "    \n",
    "    return newWords\n",
    "    "
   ]
  },
  {
   "cell_type": "code",
   "execution_count": 11,
   "metadata": {
    "collapsed": true
   },
   "outputs": [],
   "source": [
    "def parseTweet(t):\n",
    "    words = t.split(' ')\n",
    "    words = removeNumbers(words)\n",
    "    words = replaceHashtags(words)\n",
    "    words = emphasizeWords(words)\n",
    "    words = emphasizePunctiation(words)\n",
    "    words = removeStopwords(words)\n",
    "    words = normalizeWords(words)\n",
    "    words = checkPositiveNegative(words)\n",
    "    t = ' '.join(words)\n",
    "    return t"
   ]
  },
  {
   "cell_type": "code",
   "execution_count": 12,
   "metadata": {
    "collapsed": true
   },
   "outputs": [],
   "source": [
    "def parseData(data):\n",
    "    parsed = []\n",
    "    start_time = time.time()\n",
    "    for i, t in enumerate(data):\n",
    "        if (i>0 and i%5000==0):\n",
    "            print(str(i)+'/'+str(len(data)), time.time()-start_time)\n",
    "        parsed.append(parseTweet(t))\n",
    "    print(time.time()-start_time)\n",
    "    \n",
    "    return parsed"
   ]
  },
  {
   "cell_type": "code",
   "execution_count": 19,
   "metadata": {
    "collapsed": true
   },
   "outputs": [],
   "source": [
    "from textblob.classifiers import NaiveBayesClassifier"
   ]
  },
  {
   "cell_type": "code",
   "execution_count": 33,
   "metadata": {},
   "outputs": [
    {
     "name": "stdout",
     "output_type": "stream",
     "text": [
      "8.556854009628296\n",
      "7.729357719421387\n"
     ]
    }
   ],
   "source": [
    "parsed_pos = parseData(pos_data[0:5000])\n",
    "parsed_neg = parseData(neg_data[0:5000])"
   ]
  },
  {
   "cell_type": "code",
   "execution_count": 34,
   "metadata": {},
   "outputs": [],
   "source": [
    "posDF = pd.DataFrame(parsed_pos)\n",
    "posDF.columns = ['text']\n",
    "posDF['label'] = 'pos'\n",
    "negDF = pd.DataFrame(parsed_neg)\n",
    "negDF.columns = ['text']\n",
    "negDF['label'] = 'neg'"
   ]
  },
  {
   "cell_type": "code",
   "execution_count": 35,
   "metadata": {},
   "outputs": [],
   "source": [
    "df = pd.concat([posDF, negDF]).sample(frac=1).reset_index(drop=True)\n",
    "df.to_csv('parsed_test.csv', index=False)"
   ]
  },
  {
   "cell_type": "code",
   "execution_count": 36,
   "metadata": {},
   "outputs": [],
   "source": [
    "with open('parsed_test.csv') as f:\n",
    "    cl = NaiveBayesClassifier(f, format='csv')"
   ]
  },
  {
   "cell_type": "code",
   "execution_count": 37,
   "metadata": {},
   "outputs": [
    {
     "data": {
      "text/plain": [
       "'pos'"
      ]
     },
     "execution_count": 37,
     "metadata": {},
     "output_type": "execute_result"
    }
   ],
   "source": [
    "cl.classify('I suck dick')"
   ]
  },
  {
   "cell_type": "code",
   "execution_count": null,
   "metadata": {
    "collapsed": true
   },
   "outputs": [],
   "source": []
  },
  {
   "cell_type": "code",
   "execution_count": 38,
   "metadata": {
    "collapsed": true
   },
   "outputs": [],
   "source": [
    "with open('./test_data.txt', 'r') as f:\n",
    "    test_data = f.read().splitlines()"
   ]
  },
  {
   "cell_type": "code",
   "execution_count": 48,
   "metadata": {},
   "outputs": [
    {
     "name": "stdout",
     "output_type": "stream",
     "text": [
      "100/10000 7.3515729904174805\n",
      "200/10000 14.485529899597168\n",
      "300/10000 22.302922010421753\n",
      "400/10000 29.161931037902832\n",
      "500/10000 36.11663603782654\n",
      "600/10000 43.951600074768066\n",
      "700/10000 51.47758078575134\n",
      "800/10000 58.543980836868286\n",
      "900/10000 65.5224220752716\n",
      "1000/10000 72.61669516563416\n",
      "1100/10000 79.66771697998047\n",
      "1200/10000 86.70493912696838\n",
      "1300/10000 93.74563312530518\n",
      "1400/10000 100.66223812103271\n",
      "1500/10000 107.4223120212555\n",
      "1600/10000 114.47362279891968\n",
      "1700/10000 121.5224449634552\n",
      "1800/10000 128.64934515953064\n",
      "1900/10000 135.6797730922699\n",
      "2000/10000 142.72301506996155\n",
      "2100/10000 150.5981569290161\n",
      "2200/10000 157.54157304763794\n",
      "2300/10000 165.45492315292358\n",
      "2400/10000 174.4098241329193\n",
      "2500/10000 181.92578792572021\n",
      "2600/10000 189.03197503089905\n",
      "2700/10000 197.71762108802795\n",
      "2800/10000 205.74543809890747\n",
      "2900/10000 213.60946488380432\n",
      "3000/10000 224.17110681533813\n",
      "3100/10000 232.73848605155945\n",
      "3200/10000 240.20346093177795\n",
      "3300/10000 248.08762311935425\n",
      "3400/10000 255.29530882835388\n",
      "3500/10000 262.9164471626282\n",
      "3600/10000 270.2203211784363\n",
      "3700/10000 277.95413422584534\n",
      "3800/10000 285.8543498516083\n",
      "3900/10000 293.28763818740845\n",
      "4000/10000 300.92553901672363\n",
      "4100/10000 308.37322998046875\n",
      "4200/10000 315.7904210090637\n",
      "4300/10000 322.80672121047974\n",
      "4400/10000 330.21765518188477\n",
      "4500/10000 337.59280705451965\n",
      "4600/10000 346.00430488586426\n",
      "4700/10000 355.3043420314789\n",
      "4800/10000 363.3501899242401\n",
      "4900/10000 371.62449502944946\n",
      "5000/10000 379.4636387825012\n",
      "5100/10000 387.5284471511841\n",
      "5200/10000 395.10381507873535\n",
      "5300/10000 403.25609612464905\n",
      "5400/10000 411.1681921482086\n",
      "5500/10000 418.31722617149353\n",
      "5600/10000 425.941134929657\n",
      "5700/10000 433.3733751773834\n",
      "5800/10000 440.74462509155273\n",
      "5900/10000 448.6691360473633\n",
      "6000/10000 455.6246449947357\n",
      "6100/10000 463.74357414245605\n",
      "6200/10000 471.404305934906\n",
      "6300/10000 479.1176121234894\n",
      "6400/10000 486.48539304733276\n",
      "6500/10000 493.8457660675049\n",
      "6600/10000 501.09159302711487\n",
      "6700/10000 508.7599902153015\n",
      "6800/10000 516.7795631885529\n",
      "6900/10000 524.5675539970398\n",
      "7000/10000 531.743255853653\n",
      "7100/10000 539.1422400474548\n",
      "7200/10000 546.460401058197\n",
      "7300/10000 553.8635520935059\n",
      "7400/10000 560.8145880699158\n",
      "7500/10000 568.1481611728668\n",
      "7600/10000 575.5276508331299\n",
      "7700/10000 584.4862859249115\n",
      "7800/10000 592.3920121192932\n",
      "7900/10000 599.9930188655853\n",
      "8000/10000 607.2583010196686\n",
      "8100/10000 614.8477001190186\n",
      "8200/10000 622.373655796051\n",
      "8300/10000 629.8299000263214\n",
      "8400/10000 637.0746598243713\n",
      "8500/10000 644.2432169914246\n",
      "8600/10000 651.3160448074341\n",
      "8700/10000 658.4458289146423\n",
      "8800/10000 665.7993071079254\n",
      "8900/10000 672.9582438468933\n",
      "9000/10000 680.137580871582\n",
      "9100/10000 686.9984531402588\n",
      "9200/10000 694.1418969631195\n",
      "9300/10000 701.3232860565186\n",
      "9400/10000 708.443706035614\n",
      "9500/10000 715.5223398208618\n",
      "9600/10000 722.578540802002\n",
      "9700/10000 729.6068708896637\n",
      "9800/10000 736.7035658359528\n",
      "9900/10000 743.7795641422272\n",
      "750.9449071884155\n"
     ]
    }
   ],
   "source": [
    "cl_data = []\n",
    "start_time = time.time()\n",
    "for i, l in enumerate(test_data):\n",
    "    if (i>0 and i%500==0):\n",
    "        print(str(i)+'/'+str(len(test_data)), time.time()-start_time)\n",
    "    l = l.split(',', 1)\n",
    "    id_ = l[0]\n",
    "    tweet = l[1]\n",
    "    cl_data.append([id_, cl.classify(tweet)])\n",
    "print(time.time()-start_time)\n",
    "df = pd.DataFrame(cl_data)\n",
    "df.columns = ['Id', 'Prediction']"
   ]
  },
  {
   "cell_type": "code",
   "execution_count": 54,
   "metadata": {},
   "outputs": [],
   "source": [
    "df['Prediction'] = df['Prediction'].apply(lambda x : 1 if x == 'pos' else -1)"
   ]
  },
  {
   "cell_type": "code",
   "execution_count": 55,
   "metadata": {
    "collapsed": true
   },
   "outputs": [],
   "source": [
    "df.to_csv('submission.csv', index=False)"
   ]
  },
  {
   "cell_type": "code",
   "execution_count": null,
   "metadata": {
    "collapsed": true
   },
   "outputs": [],
   "source": [
    "def classify(model, test_data):\n",
    "    cl_data = []\n",
    "    for l in test_data:\n",
    "        l = l.split(',', 1)\n",
    "        id_ = l[0]\n",
    "        tweet = l[1]\n",
    "        cl_data.append([id_, model.classify(tweet)])\n",
    "    df = pd.DataFrame(cl_data)\n",
    "    df.columns = ['Id', 'Prediction']\n",
    "    df.to_csv('submission.csv', index=False)"
   ]
  },
  {
   "cell_type": "code",
   "execution_count": null,
   "metadata": {
    "collapsed": true
   },
   "outputs": [],
   "source": []
  },
  {
   "cell_type": "code",
   "execution_count": null,
   "metadata": {
    "collapsed": true
   },
   "outputs": [],
   "source": []
  },
  {
   "cell_type": "code",
   "execution_count": null,
   "metadata": {
    "collapsed": true
   },
   "outputs": [],
   "source": []
  },
  {
   "cell_type": "code",
   "execution_count": null,
   "metadata": {
    "collapsed": true
   },
   "outputs": [],
   "source": []
  },
  {
   "cell_type": "code",
   "execution_count": 22,
   "metadata": {},
   "outputs": [
    {
     "name": "stdout",
     "output_type": "stream",
     "text": [
      "original:\n",
      " <user> i .... this sucks ? ! ! haaappyyyyy dunno justin read my mention or not . only justin and god knows about that , but i hope you will follow me #believe 15\n",
      "\n",
      "['<user>', 'i', '....', 'this', 'sucks', '?', '!', '!', 'haaappyyyyy', 'dunno', 'justin', 'read', 'my', 'mention', 'or', 'not', '.', 'only', 'justin', 'and', 'god', 'knows', 'about', 'that', ',', 'but', 'i', 'hope', 'you', 'will', 'follow', 'me', '#believe', '15']\n",
      "['<user>', '...', 'negatively', 'suck', '<emphasis>', 'positively', '<<happy>>', 'dunno', 'justin', 'read', 'mention', '.', 'justin', 'god', 'know', ',', 'hope', 'follow', '<hashtag>', 'believe', '<number>']\n",
      "\n",
      "after:\n",
      " <user> ... negatively suck <emphasis> positively <<happy>> dunno justin read mention . justin god know , hope follow <hashtag> believe <number>\n"
     ]
    }
   ],
   "source": [
    "t = '<user> i .... this sucks ? ! ! haaappyyyyy dunno justin read my mention or not . only justin and god knows about that , but i hope you will follow me #believe 15\\n'\n",
    "print('original:\\n', t)\n",
    "t = t.replace('\\n', '')\n",
    "words = t.split(' ')\n",
    "print(words)\n",
    "\n",
    "words = removeNumbers(words)\n",
    "words = replaceHashtags(words)\n",
    "words = emphasizeWords(words)\n",
    "words = emphasizePunctiation(words)\n",
    "words = removeStopwords(words)\n",
    "words = normalizeWords(words)\n",
    "words = checkPositiveNegative(words)\n",
    "print(words)\n",
    "\n",
    "t = ' '.join(words)\n",
    "print('\\nafter:\\n', t)"
   ]
  }
 ],
 "metadata": {
  "kernelspec": {
   "display_name": "Python 3",
   "language": "python",
   "name": "python3"
  },
  "language_info": {
   "codemirror_mode": {
    "name": "ipython",
    "version": 3
   },
   "file_extension": ".py",
   "mimetype": "text/x-python",
   "name": "python",
   "nbconvert_exporter": "python",
   "pygments_lexer": "ipython3",
   "version": "3.6.1"
  }
 },
 "nbformat": 4,
 "nbformat_minor": 2
}
